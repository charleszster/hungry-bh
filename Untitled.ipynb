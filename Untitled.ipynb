{
 "cells": [
  {
   "cell_type": "code",
   "execution_count": 1,
   "metadata": {
    "collapsed": true
   },
   "outputs": [],
   "source": [
    "import pandas as pd"
   ]
  },
  {
   "cell_type": "code",
   "execution_count": 2,
   "metadata": {
    "collapsed": true
   },
   "outputs": [],
   "source": [
    "import numpy as np"
   ]
  },
  {
   "cell_type": "code",
   "execution_count": 3,
   "metadata": {
    "collapsed": true
   },
   "outputs": [],
   "source": [
    "import matplotlib.pyplot as plt"
   ]
  },
  {
   "cell_type": "code",
   "execution_count": 4,
   "metadata": {
    "collapsed": true
   },
   "outputs": [],
   "source": [
    "s=pd.Series([1,3,5,np.nan,6,6])"
   ]
  },
  {
   "cell_type": "code",
   "execution_count": 5,
   "metadata": {
    "collapsed": false
   },
   "outputs": [
    {
     "data": {
      "text/plain": [
       "0     1\n",
       "1     3\n",
       "2     5\n",
       "3   NaN\n",
       "4     6\n",
       "5     6\n",
       "dtype: float64"
      ]
     },
     "execution_count": 5,
     "metadata": {},
     "output_type": "execute_result"
    }
   ],
   "source": [
    "s"
   ]
  },
  {
   "cell_type": "code",
   "execution_count": 6,
   "metadata": {
    "collapsed": true
   },
   "outputs": [],
   "source": [
    "dates=pd.date_range('20160516', periods=6)"
   ]
  },
  {
   "cell_type": "code",
   "execution_count": 7,
   "metadata": {
    "collapsed": false
   },
   "outputs": [
    {
     "data": {
      "text/plain": [
       "DatetimeIndex(['2016-05-16', '2016-05-17', '2016-05-18', '2016-05-19',\n",
       "               '2016-05-20', '2016-05-21'],\n",
       "              dtype='datetime64[ns]', freq='D')"
      ]
     },
     "execution_count": 7,
     "metadata": {},
     "output_type": "execute_result"
    }
   ],
   "source": [
    "dates"
   ]
  },
  {
   "cell_type": "code",
   "execution_count": 8,
   "metadata": {
    "collapsed": true
   },
   "outputs": [],
   "source": [
    "df=pd.DataFrame(np.random.randn(6,4), index=dates, columns=list('ABCD'))"
   ]
  },
  {
   "cell_type": "code",
   "execution_count": 9,
   "metadata": {
    "collapsed": false
   },
   "outputs": [
    {
     "data": {
      "text/html": [
       "<div>\n",
       "<table border=\"1\" class=\"dataframe\">\n",
       "  <thead>\n",
       "    <tr style=\"text-align: right;\">\n",
       "      <th></th>\n",
       "      <th>A</th>\n",
       "      <th>B</th>\n",
       "      <th>C</th>\n",
       "      <th>D</th>\n",
       "    </tr>\n",
       "  </thead>\n",
       "  <tbody>\n",
       "    <tr>\n",
       "      <th>2016-05-16</th>\n",
       "      <td>-0.246858</td>\n",
       "      <td>-0.785078</td>\n",
       "      <td>0.135421</td>\n",
       "      <td>-1.143747</td>\n",
       "    </tr>\n",
       "    <tr>\n",
       "      <th>2016-05-17</th>\n",
       "      <td>-1.603666</td>\n",
       "      <td>-1.150184</td>\n",
       "      <td>-0.766043</td>\n",
       "      <td>0.214194</td>\n",
       "    </tr>\n",
       "    <tr>\n",
       "      <th>2016-05-18</th>\n",
       "      <td>0.242636</td>\n",
       "      <td>-1.653231</td>\n",
       "      <td>-0.894010</td>\n",
       "      <td>-0.753225</td>\n",
       "    </tr>\n",
       "    <tr>\n",
       "      <th>2016-05-19</th>\n",
       "      <td>-0.737950</td>\n",
       "      <td>-0.961050</td>\n",
       "      <td>0.452468</td>\n",
       "      <td>-0.997171</td>\n",
       "    </tr>\n",
       "    <tr>\n",
       "      <th>2016-05-20</th>\n",
       "      <td>-0.111028</td>\n",
       "      <td>-1.091068</td>\n",
       "      <td>-0.784214</td>\n",
       "      <td>-2.420062</td>\n",
       "    </tr>\n",
       "    <tr>\n",
       "      <th>2016-05-21</th>\n",
       "      <td>1.728997</td>\n",
       "      <td>1.318631</td>\n",
       "      <td>0.064639</td>\n",
       "      <td>-1.005213</td>\n",
       "    </tr>\n",
       "  </tbody>\n",
       "</table>\n",
       "</div>"
      ],
      "text/plain": [
       "                   A         B         C         D\n",
       "2016-05-16 -0.246858 -0.785078  0.135421 -1.143747\n",
       "2016-05-17 -1.603666 -1.150184 -0.766043  0.214194\n",
       "2016-05-18  0.242636 -1.653231 -0.894010 -0.753225\n",
       "2016-05-19 -0.737950 -0.961050  0.452468 -0.997171\n",
       "2016-05-20 -0.111028 -1.091068 -0.784214 -2.420062\n",
       "2016-05-21  1.728997  1.318631  0.064639 -1.005213"
      ]
     },
     "execution_count": 9,
     "metadata": {},
     "output_type": "execute_result"
    }
   ],
   "source": [
    "df"
   ]
  },
  {
   "cell_type": "code",
   "execution_count": 10,
   "metadata": {
    "collapsed": false
   },
   "outputs": [
    {
     "data": {
      "text/html": [
       "<div>\n",
       "<table border=\"1\" class=\"dataframe\">\n",
       "  <thead>\n",
       "    <tr style=\"text-align: right;\">\n",
       "      <th></th>\n",
       "      <th>A</th>\n",
       "      <th>B</th>\n",
       "      <th>C</th>\n",
       "      <th>D</th>\n",
       "    </tr>\n",
       "  </thead>\n",
       "  <tbody>\n",
       "    <tr>\n",
       "      <th>2016-05-16</th>\n",
       "      <td>-0.246858</td>\n",
       "      <td>-0.785078</td>\n",
       "      <td>0.135421</td>\n",
       "      <td>-1.143747</td>\n",
       "    </tr>\n",
       "    <tr>\n",
       "      <th>2016-05-17</th>\n",
       "      <td>-1.603666</td>\n",
       "      <td>-1.150184</td>\n",
       "      <td>-0.766043</td>\n",
       "      <td>0.214194</td>\n",
       "    </tr>\n",
       "    <tr>\n",
       "      <th>2016-05-18</th>\n",
       "      <td>0.242636</td>\n",
       "      <td>-1.653231</td>\n",
       "      <td>-0.894010</td>\n",
       "      <td>-0.753225</td>\n",
       "    </tr>\n",
       "    <tr>\n",
       "      <th>2016-05-19</th>\n",
       "      <td>-0.737950</td>\n",
       "      <td>-0.961050</td>\n",
       "      <td>0.452468</td>\n",
       "      <td>-0.997171</td>\n",
       "    </tr>\n",
       "    <tr>\n",
       "      <th>2016-05-20</th>\n",
       "      <td>-0.111028</td>\n",
       "      <td>-1.091068</td>\n",
       "      <td>-0.784214</td>\n",
       "      <td>-2.420062</td>\n",
       "    </tr>\n",
       "  </tbody>\n",
       "</table>\n",
       "</div>"
      ],
      "text/plain": [
       "                   A         B         C         D\n",
       "2016-05-16 -0.246858 -0.785078  0.135421 -1.143747\n",
       "2016-05-17 -1.603666 -1.150184 -0.766043  0.214194\n",
       "2016-05-18  0.242636 -1.653231 -0.894010 -0.753225\n",
       "2016-05-19 -0.737950 -0.961050  0.452468 -0.997171\n",
       "2016-05-20 -0.111028 -1.091068 -0.784214 -2.420062"
      ]
     },
     "execution_count": 10,
     "metadata": {},
     "output_type": "execute_result"
    }
   ],
   "source": [
    "df.head()"
   ]
  },
  {
   "cell_type": "code",
   "execution_count": 11,
   "metadata": {
    "collapsed": false
   },
   "outputs": [
    {
     "data": {
      "text/html": [
       "<div>\n",
       "<table border=\"1\" class=\"dataframe\">\n",
       "  <thead>\n",
       "    <tr style=\"text-align: right;\">\n",
       "      <th></th>\n",
       "      <th>A</th>\n",
       "      <th>B</th>\n",
       "      <th>C</th>\n",
       "      <th>D</th>\n",
       "    </tr>\n",
       "  </thead>\n",
       "  <tbody>\n",
       "    <tr>\n",
       "      <th>2016-05-19</th>\n",
       "      <td>-0.737950</td>\n",
       "      <td>-0.961050</td>\n",
       "      <td>0.452468</td>\n",
       "      <td>-0.997171</td>\n",
       "    </tr>\n",
       "    <tr>\n",
       "      <th>2016-05-20</th>\n",
       "      <td>-0.111028</td>\n",
       "      <td>-1.091068</td>\n",
       "      <td>-0.784214</td>\n",
       "      <td>-2.420062</td>\n",
       "    </tr>\n",
       "    <tr>\n",
       "      <th>2016-05-21</th>\n",
       "      <td>1.728997</td>\n",
       "      <td>1.318631</td>\n",
       "      <td>0.064639</td>\n",
       "      <td>-1.005213</td>\n",
       "    </tr>\n",
       "  </tbody>\n",
       "</table>\n",
       "</div>"
      ],
      "text/plain": [
       "                   A         B         C         D\n",
       "2016-05-19 -0.737950 -0.961050  0.452468 -0.997171\n",
       "2016-05-20 -0.111028 -1.091068 -0.784214 -2.420062\n",
       "2016-05-21  1.728997  1.318631  0.064639 -1.005213"
      ]
     },
     "execution_count": 11,
     "metadata": {},
     "output_type": "execute_result"
    }
   ],
   "source": [
    "df.tail(3)"
   ]
  },
  {
   "cell_type": "code",
   "execution_count": 12,
   "metadata": {
    "collapsed": false
   },
   "outputs": [
    {
     "data": {
      "text/plain": [
       "DatetimeIndex(['2016-05-16', '2016-05-17', '2016-05-18', '2016-05-19',\n",
       "               '2016-05-20', '2016-05-21'],\n",
       "              dtype='datetime64[ns]', freq='D')"
      ]
     },
     "execution_count": 12,
     "metadata": {},
     "output_type": "execute_result"
    }
   ],
   "source": [
    "df.index"
   ]
  },
  {
   "cell_type": "code",
   "execution_count": 13,
   "metadata": {
    "collapsed": false
   },
   "outputs": [
    {
     "data": {
      "text/plain": [
       "Index(['A', 'B', 'C', 'D'], dtype='object')"
      ]
     },
     "execution_count": 13,
     "metadata": {},
     "output_type": "execute_result"
    }
   ],
   "source": [
    "df.columns"
   ]
  },
  {
   "cell_type": "code",
   "execution_count": 15,
   "metadata": {
    "collapsed": false
   },
   "outputs": [
    {
     "data": {
      "text/html": [
       "<div>\n",
       "<table border=\"1\" class=\"dataframe\">\n",
       "  <thead>\n",
       "    <tr style=\"text-align: right;\">\n",
       "      <th></th>\n",
       "      <th>A</th>\n",
       "      <th>B</th>\n",
       "      <th>C</th>\n",
       "      <th>D</th>\n",
       "    </tr>\n",
       "  </thead>\n",
       "  <tbody>\n",
       "    <tr>\n",
       "      <th>count</th>\n",
       "      <td>6.000000</td>\n",
       "      <td>6.000000</td>\n",
       "      <td>6.000000</td>\n",
       "      <td>6.000000</td>\n",
       "    </tr>\n",
       "    <tr>\n",
       "      <th>mean</th>\n",
       "      <td>-0.121311</td>\n",
       "      <td>-0.720330</td>\n",
       "      <td>-0.298623</td>\n",
       "      <td>-1.017537</td>\n",
       "    </tr>\n",
       "    <tr>\n",
       "      <th>std</th>\n",
       "      <td>1.109016</td>\n",
       "      <td>1.040387</td>\n",
       "      <td>0.581937</td>\n",
       "      <td>0.845055</td>\n",
       "    </tr>\n",
       "    <tr>\n",
       "      <th>min</th>\n",
       "      <td>-1.603666</td>\n",
       "      <td>-1.653231</td>\n",
       "      <td>-0.894010</td>\n",
       "      <td>-2.420062</td>\n",
       "    </tr>\n",
       "    <tr>\n",
       "      <th>25%</th>\n",
       "      <td>-0.615177</td>\n",
       "      <td>-1.135405</td>\n",
       "      <td>-0.779671</td>\n",
       "      <td>-1.109113</td>\n",
       "    </tr>\n",
       "    <tr>\n",
       "      <th>50%</th>\n",
       "      <td>-0.178943</td>\n",
       "      <td>-1.026059</td>\n",
       "      <td>-0.350702</td>\n",
       "      <td>-1.001192</td>\n",
       "    </tr>\n",
       "    <tr>\n",
       "      <th>75%</th>\n",
       "      <td>0.154220</td>\n",
       "      <td>-0.829071</td>\n",
       "      <td>0.117725</td>\n",
       "      <td>-0.814211</td>\n",
       "    </tr>\n",
       "    <tr>\n",
       "      <th>max</th>\n",
       "      <td>1.728997</td>\n",
       "      <td>1.318631</td>\n",
       "      <td>0.452468</td>\n",
       "      <td>0.214194</td>\n",
       "    </tr>\n",
       "  </tbody>\n",
       "</table>\n",
       "</div>"
      ],
      "text/plain": [
       "              A         B         C         D\n",
       "count  6.000000  6.000000  6.000000  6.000000\n",
       "mean  -0.121311 -0.720330 -0.298623 -1.017537\n",
       "std    1.109016  1.040387  0.581937  0.845055\n",
       "min   -1.603666 -1.653231 -0.894010 -2.420062\n",
       "25%   -0.615177 -1.135405 -0.779671 -1.109113\n",
       "50%   -0.178943 -1.026059 -0.350702 -1.001192\n",
       "75%    0.154220 -0.829071  0.117725 -0.814211\n",
       "max    1.728997  1.318631  0.452468  0.214194"
      ]
     },
     "execution_count": 15,
     "metadata": {},
     "output_type": "execute_result"
    }
   ],
   "source": [
    "df.describe()"
   ]
  },
  {
   "cell_type": "code",
   "execution_count": 16,
   "metadata": {
    "collapsed": false
   },
   "outputs": [
    {
     "data": {
      "text/html": [
       "<div>\n",
       "<table border=\"1\" class=\"dataframe\">\n",
       "  <thead>\n",
       "    <tr style=\"text-align: right;\">\n",
       "      <th></th>\n",
       "      <th>2016-05-16 00:00:00</th>\n",
       "      <th>2016-05-17 00:00:00</th>\n",
       "      <th>2016-05-18 00:00:00</th>\n",
       "      <th>2016-05-19 00:00:00</th>\n",
       "      <th>2016-05-20 00:00:00</th>\n",
       "      <th>2016-05-21 00:00:00</th>\n",
       "    </tr>\n",
       "  </thead>\n",
       "  <tbody>\n",
       "    <tr>\n",
       "      <th>A</th>\n",
       "      <td>-0.246858</td>\n",
       "      <td>-1.603666</td>\n",
       "      <td>0.242636</td>\n",
       "      <td>-0.737950</td>\n",
       "      <td>-0.111028</td>\n",
       "      <td>1.728997</td>\n",
       "    </tr>\n",
       "    <tr>\n",
       "      <th>B</th>\n",
       "      <td>-0.785078</td>\n",
       "      <td>-1.150184</td>\n",
       "      <td>-1.653231</td>\n",
       "      <td>-0.961050</td>\n",
       "      <td>-1.091068</td>\n",
       "      <td>1.318631</td>\n",
       "    </tr>\n",
       "    <tr>\n",
       "      <th>C</th>\n",
       "      <td>0.135421</td>\n",
       "      <td>-0.766043</td>\n",
       "      <td>-0.894010</td>\n",
       "      <td>0.452468</td>\n",
       "      <td>-0.784214</td>\n",
       "      <td>0.064639</td>\n",
       "    </tr>\n",
       "    <tr>\n",
       "      <th>D</th>\n",
       "      <td>-1.143747</td>\n",
       "      <td>0.214194</td>\n",
       "      <td>-0.753225</td>\n",
       "      <td>-0.997171</td>\n",
       "      <td>-2.420062</td>\n",
       "      <td>-1.005213</td>\n",
       "    </tr>\n",
       "  </tbody>\n",
       "</table>\n",
       "</div>"
      ],
      "text/plain": [
       "   2016-05-16  2016-05-17  2016-05-18  2016-05-19  2016-05-20  2016-05-21\n",
       "A   -0.246858   -1.603666    0.242636   -0.737950   -0.111028    1.728997\n",
       "B   -0.785078   -1.150184   -1.653231   -0.961050   -1.091068    1.318631\n",
       "C    0.135421   -0.766043   -0.894010    0.452468   -0.784214    0.064639\n",
       "D   -1.143747    0.214194   -0.753225   -0.997171   -2.420062   -1.005213"
      ]
     },
     "execution_count": 16,
     "metadata": {},
     "output_type": "execute_result"
    }
   ],
   "source": [
    "df.T"
   ]
  },
  {
   "cell_type": "code",
   "execution_count": 17,
   "metadata": {
    "collapsed": false
   },
   "outputs": [
    {
     "data": {
      "text/plain": [
       "2016-05-16   -0.246858\n",
       "2016-05-17   -1.603666\n",
       "2016-05-18    0.242636\n",
       "2016-05-19   -0.737950\n",
       "2016-05-20   -0.111028\n",
       "2016-05-21    1.728997\n",
       "Freq: D, Name: A, dtype: float64"
      ]
     },
     "execution_count": 17,
     "metadata": {},
     "output_type": "execute_result"
    }
   ],
   "source": [
    "df['A']"
   ]
  },
  {
   "cell_type": "code",
   "execution_count": 18,
   "metadata": {
    "collapsed": false
   },
   "outputs": [
    {
     "data": {
      "text/html": [
       "<div>\n",
       "<table border=\"1\" class=\"dataframe\">\n",
       "  <thead>\n",
       "    <tr style=\"text-align: right;\">\n",
       "      <th></th>\n",
       "      <th>A</th>\n",
       "      <th>B</th>\n",
       "      <th>C</th>\n",
       "      <th>D</th>\n",
       "    </tr>\n",
       "  </thead>\n",
       "  <tbody>\n",
       "    <tr>\n",
       "      <th>2016-05-16</th>\n",
       "      <td>-0.246858</td>\n",
       "      <td>-0.785078</td>\n",
       "      <td>0.135421</td>\n",
       "      <td>-1.143747</td>\n",
       "    </tr>\n",
       "    <tr>\n",
       "      <th>2016-05-17</th>\n",
       "      <td>-1.603666</td>\n",
       "      <td>-1.150184</td>\n",
       "      <td>-0.766043</td>\n",
       "      <td>0.214194</td>\n",
       "    </tr>\n",
       "    <tr>\n",
       "      <th>2016-05-18</th>\n",
       "      <td>0.242636</td>\n",
       "      <td>-1.653231</td>\n",
       "      <td>-0.894010</td>\n",
       "      <td>-0.753225</td>\n",
       "    </tr>\n",
       "    <tr>\n",
       "      <th>2016-05-19</th>\n",
       "      <td>-0.737950</td>\n",
       "      <td>-0.961050</td>\n",
       "      <td>0.452468</td>\n",
       "      <td>-0.997171</td>\n",
       "    </tr>\n",
       "    <tr>\n",
       "      <th>2016-05-20</th>\n",
       "      <td>-0.111028</td>\n",
       "      <td>-1.091068</td>\n",
       "      <td>-0.784214</td>\n",
       "      <td>-2.420062</td>\n",
       "    </tr>\n",
       "    <tr>\n",
       "      <th>2016-05-21</th>\n",
       "      <td>1.728997</td>\n",
       "      <td>1.318631</td>\n",
       "      <td>0.064639</td>\n",
       "      <td>-1.005213</td>\n",
       "    </tr>\n",
       "  </tbody>\n",
       "</table>\n",
       "</div>"
      ],
      "text/plain": [
       "                   A         B         C         D\n",
       "2016-05-16 -0.246858 -0.785078  0.135421 -1.143747\n",
       "2016-05-17 -1.603666 -1.150184 -0.766043  0.214194\n",
       "2016-05-18  0.242636 -1.653231 -0.894010 -0.753225\n",
       "2016-05-19 -0.737950 -0.961050  0.452468 -0.997171\n",
       "2016-05-20 -0.111028 -1.091068 -0.784214 -2.420062\n",
       "2016-05-21  1.728997  1.318631  0.064639 -1.005213"
      ]
     },
     "execution_count": 18,
     "metadata": {},
     "output_type": "execute_result"
    }
   ],
   "source": [
    "df"
   ]
  },
  {
   "cell_type": "code",
   "execution_count": 19,
   "metadata": {
    "collapsed": false
   },
   "outputs": [
    {
     "data": {
      "text/plain": [
       "A   -0.737950\n",
       "B   -0.961050\n",
       "C    0.452468\n",
       "D   -0.997171\n",
       "Name: 2016-05-19 00:00:00, dtype: float64"
      ]
     },
     "execution_count": 19,
     "metadata": {},
     "output_type": "execute_result"
    }
   ],
   "source": [
    "df.iloc[3]"
   ]
  },
  {
   "cell_type": "code",
   "execution_count": 20,
   "metadata": {
    "collapsed": true
   },
   "outputs": [],
   "source": [
    "df1=df.reindex(index=dates[0:4],columns=list(df.columns)+['E'])"
   ]
  },
  {
   "cell_type": "code",
   "execution_count": 21,
   "metadata": {
    "collapsed": true
   },
   "outputs": [],
   "source": [
    "df1.loc[dates[0]:dates[1],'E']=1"
   ]
  },
  {
   "cell_type": "code",
   "execution_count": 22,
   "metadata": {
    "collapsed": false
   },
   "outputs": [
    {
     "data": {
      "text/html": [
       "<div>\n",
       "<table border=\"1\" class=\"dataframe\">\n",
       "  <thead>\n",
       "    <tr style=\"text-align: right;\">\n",
       "      <th></th>\n",
       "      <th>A</th>\n",
       "      <th>B</th>\n",
       "      <th>C</th>\n",
       "      <th>D</th>\n",
       "      <th>E</th>\n",
       "    </tr>\n",
       "  </thead>\n",
       "  <tbody>\n",
       "    <tr>\n",
       "      <th>2016-05-16</th>\n",
       "      <td>-0.246858</td>\n",
       "      <td>-0.785078</td>\n",
       "      <td>0.135421</td>\n",
       "      <td>-1.143747</td>\n",
       "      <td>1</td>\n",
       "    </tr>\n",
       "    <tr>\n",
       "      <th>2016-05-17</th>\n",
       "      <td>-1.603666</td>\n",
       "      <td>-1.150184</td>\n",
       "      <td>-0.766043</td>\n",
       "      <td>0.214194</td>\n",
       "      <td>1</td>\n",
       "    </tr>\n",
       "    <tr>\n",
       "      <th>2016-05-18</th>\n",
       "      <td>0.242636</td>\n",
       "      <td>-1.653231</td>\n",
       "      <td>-0.894010</td>\n",
       "      <td>-0.753225</td>\n",
       "      <td>NaN</td>\n",
       "    </tr>\n",
       "    <tr>\n",
       "      <th>2016-05-19</th>\n",
       "      <td>-0.737950</td>\n",
       "      <td>-0.961050</td>\n",
       "      <td>0.452468</td>\n",
       "      <td>-0.997171</td>\n",
       "      <td>NaN</td>\n",
       "    </tr>\n",
       "  </tbody>\n",
       "</table>\n",
       "</div>"
      ],
      "text/plain": [
       "                   A         B         C         D   E\n",
       "2016-05-16 -0.246858 -0.785078  0.135421 -1.143747   1\n",
       "2016-05-17 -1.603666 -1.150184 -0.766043  0.214194   1\n",
       "2016-05-18  0.242636 -1.653231 -0.894010 -0.753225 NaN\n",
       "2016-05-19 -0.737950 -0.961050  0.452468 -0.997171 NaN"
      ]
     },
     "execution_count": 22,
     "metadata": {},
     "output_type": "execute_result"
    }
   ],
   "source": [
    "df1"
   ]
  },
  {
   "cell_type": "code",
   "execution_count": null,
   "metadata": {
    "collapsed": true
   },
   "outputs": [],
   "source": []
  }
 ],
 "metadata": {
  "kernelspec": {
   "display_name": "Python 3",
   "language": "python",
   "name": "python3"
  },
  "language_info": {
   "codemirror_mode": {
    "name": "ipython",
    "version": 3
   },
   "file_extension": ".py",
   "mimetype": "text/x-python",
   "name": "python",
   "nbconvert_exporter": "python",
   "pygments_lexer": "ipython3",
   "version": "3.5.1"
  }
 },
 "nbformat": 4,
 "nbformat_minor": 0
}
