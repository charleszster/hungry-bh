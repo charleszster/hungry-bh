{
 "cells": [
  {
   "cell_type": "code",
   "execution_count": 1,
   "metadata": {
    "collapsed": true
   },
   "outputs": [],
   "source": [
    "import pandas as pd"
   ]
  },
  {
   "cell_type": "code",
   "execution_count": 2,
   "metadata": {
    "collapsed": true
   },
   "outputs": [],
   "source": [
    "import numpy as np"
   ]
  },
  {
   "cell_type": "code",
   "execution_count": 3,
   "metadata": {
    "collapsed": true
   },
   "outputs": [],
   "source": [
    "import matplotlib.pyplot as plt"
   ]
  },
  {
   "cell_type": "code",
   "execution_count": 4,
   "metadata": {
    "collapsed": true
   },
   "outputs": [],
   "source": [
    "s=pd.Series([1,3,5,np.nan,6,6])"
   ]
  },
  {
   "cell_type": "code",
   "execution_count": 5,
   "metadata": {
    "collapsed": false
   },
   "outputs": [
    {
     "data": {
      "text/plain": [
       "0     1\n",
       "1     3\n",
       "2     5\n",
       "3   NaN\n",
       "4     6\n",
       "5     6\n",
       "dtype: float64"
      ]
     },
     "execution_count": 5,
     "metadata": {},
     "output_type": "execute_result"
    }
   ],
   "source": [
    "s"
   ]
  },
  {
   "cell_type": "code",
   "execution_count": 6,
   "metadata": {
    "collapsed": true
   },
   "outputs": [],
   "source": [
    "dates=pd.date_range('20160516', periods=6)"
   ]
  },
  {
   "cell_type": "code",
   "execution_count": 7,
   "metadata": {
    "collapsed": false
   },
   "outputs": [
    {
     "data": {
      "text/plain": [
       "DatetimeIndex(['2016-05-16', '2016-05-17', '2016-05-18', '2016-05-19',\n",
       "               '2016-05-20', '2016-05-21'],\n",
       "              dtype='datetime64[ns]', freq='D')"
      ]
     },
     "execution_count": 7,
     "metadata": {},
     "output_type": "execute_result"
    }
   ],
   "source": [
    "dates"
   ]
  },
  {
   "cell_type": "code",
   "execution_count": 8,
   "metadata": {
    "collapsed": true
   },
   "outputs": [],
   "source": [
    "df=pd.DataFrame(np.random.randn(6,4), index=dates, columns=list('ABCD'))"
   ]
  },
  {
   "cell_type": "code",
   "execution_count": 9,
   "metadata": {
    "collapsed": false
   },
   "outputs": [
    {
     "data": {
      "text/html": [
       "<div>\n",
       "<table border=\"1\" class=\"dataframe\">\n",
       "  <thead>\n",
       "    <tr style=\"text-align: right;\">\n",
       "      <th></th>\n",
       "      <th>A</th>\n",
       "      <th>B</th>\n",
       "      <th>C</th>\n",
       "      <th>D</th>\n",
       "    </tr>\n",
       "  </thead>\n",
       "  <tbody>\n",
       "    <tr>\n",
       "      <th>2016-05-16</th>\n",
       "      <td>-0.246858</td>\n",
       "      <td>-0.785078</td>\n",
       "      <td>0.135421</td>\n",
       "      <td>-1.143747</td>\n",
       "    </tr>\n",
       "    <tr>\n",
       "      <th>2016-05-17</th>\n",
       "      <td>-1.603666</td>\n",
       "      <td>-1.150184</td>\n",
       "      <td>-0.766043</td>\n",
       "      <td>0.214194</td>\n",
       "    </tr>\n",
       "    <tr>\n",
       "      <th>2016-05-18</th>\n",
       "      <td>0.242636</td>\n",
       "      <td>-1.653231</td>\n",
       "      <td>-0.894010</td>\n",
       "      <td>-0.753225</td>\n",
       "    </tr>\n",
       "    <tr>\n",
       "      <th>2016-05-19</th>\n",
       "      <td>-0.737950</td>\n",
       "      <td>-0.961050</td>\n",
       "      <td>0.452468</td>\n",
       "      <td>-0.997171</td>\n",
       "    </tr>\n",
       "    <tr>\n",
       "      <th>2016-05-20</th>\n",
       "      <td>-0.111028</td>\n",
       "      <td>-1.091068</td>\n",
       "      <td>-0.784214</td>\n",
       "      <td>-2.420062</td>\n",
       "    </tr>\n",
       "    <tr>\n",
       "      <th>2016-05-21</th>\n",
       "      <td>1.728997</td>\n",
       "      <td>1.318631</td>\n",
       "      <td>0.064639</td>\n",
       "      <td>-1.005213</td>\n",
       "    </tr>\n",
       "  </tbody>\n",
       "</table>\n",
       "</div>"
      ],
      "text/plain": [
       "                   A         B         C         D\n",
       "2016-05-16 -0.246858 -0.785078  0.135421 -1.143747\n",
       "2016-05-17 -1.603666 -1.150184 -0.766043  0.214194\n",
       "2016-05-18  0.242636 -1.653231 -0.894010 -0.753225\n",
       "2016-05-19 -0.737950 -0.961050  0.452468 -0.997171\n",
       "2016-05-20 -0.111028 -1.091068 -0.784214 -2.420062\n",
       "2016-05-21  1.728997  1.318631  0.064639 -1.005213"
      ]
     },
     "execution_count": 9,
     "metadata": {},
     "output_type": "execute_result"
    }
   ],
   "source": [
    "df"
   ]
  },
  {
   "cell_type": "code",
   "execution_count": 10,
   "metadata": {
    "collapsed": false
   },
   "outputs": [
    {
     "data": {
      "text/html": [
       "<div>\n",
       "<table border=\"1\" class=\"dataframe\">\n",
       "  <thead>\n",
       "    <tr style=\"text-align: right;\">\n",
       "      <th></th>\n",
       "      <th>A</th>\n",
       "      <th>B</th>\n",
       "      <th>C</th>\n",
       "      <th>D</th>\n",
       "    </tr>\n",
       "  </thead>\n",
       "  <tbody>\n",
       "    <tr>\n",
       "      <th>2016-05-16</th>\n",
       "      <td>-0.246858</td>\n",
       "      <td>-0.785078</td>\n",
       "      <td>0.135421</td>\n",
       "      <td>-1.143747</td>\n",
       "    </tr>\n",
       "    <tr>\n",
       "      <th>2016-05-17</th>\n",
       "      <td>-1.603666</td>\n",
       "      <td>-1.150184</td>\n",
       "      <td>-0.766043</td>\n",
       "      <td>0.214194</td>\n",
       "    </tr>\n",
       "    <tr>\n",
       "      <th>2016-05-18</th>\n",
       "      <td>0.242636</td>\n",
       "      <td>-1.653231</td>\n",
       "      <td>-0.894010</td>\n",
       "      <td>-0.753225</td>\n",
       "    </tr>\n",
       "    <tr>\n",
       "      <th>2016-05-19</th>\n",
       "      <td>-0.737950</td>\n",
       "      <td>-0.961050</td>\n",
       "      <td>0.452468</td>\n",
       "      <td>-0.997171</td>\n",
       "    </tr>\n",
       "    <tr>\n",
       "      <th>2016-05-20</th>\n",
       "      <td>-0.111028</td>\n",
       "      <td>-1.091068</td>\n",
       "      <td>-0.784214</td>\n",
       "      <td>-2.420062</td>\n",
       "    </tr>\n",
       "  </tbody>\n",
       "</table>\n",
       "</div>"
      ],
      "text/plain": [
       "                   A         B         C         D\n",
       "2016-05-16 -0.246858 -0.785078  0.135421 -1.143747\n",
       "2016-05-17 -1.603666 -1.150184 -0.766043  0.214194\n",
       "2016-05-18  0.242636 -1.653231 -0.894010 -0.753225\n",
       "2016-05-19 -0.737950 -0.961050  0.452468 -0.997171\n",
       "2016-05-20 -0.111028 -1.091068 -0.784214 -2.420062"
      ]
     },
     "execution_count": 10,
     "metadata": {},
     "output_type": "execute_result"
    }
   ],
   "source": [
    "df.head()"
   ]
  },
  {
   "cell_type": "code",
   "execution_count": 11,
   "metadata": {
    "collapsed": false
   },
   "outputs": [
    {
     "data": {
      "text/html": [
       "<div>\n",
       "<table border=\"1\" class=\"dataframe\">\n",
       "  <thead>\n",
       "    <tr style=\"text-align: right;\">\n",
       "      <th></th>\n",
       "      <th>A</th>\n",
       "      <th>B</th>\n",
       "      <th>C</th>\n",
       "      <th>D</th>\n",
       "    </tr>\n",
       "  </thead>\n",
       "  <tbody>\n",
       "    <tr>\n",
       "      <th>2016-05-19</th>\n",
       "      <td>-0.737950</td>\n",
       "      <td>-0.961050</td>\n",
       "      <td>0.452468</td>\n",
       "      <td>-0.997171</td>\n",
       "    </tr>\n",
       "    <tr>\n",
       "      <th>2016-05-20</th>\n",
       "      <td>-0.111028</td>\n",
       "      <td>-1.091068</td>\n",
       "      <td>-0.784214</td>\n",
       "      <td>-2.420062</td>\n",
       "    </tr>\n",
       "    <tr>\n",
       "      <th>2016-05-21</th>\n",
       "      <td>1.728997</td>\n",
       "      <td>1.318631</td>\n",
       "      <td>0.064639</td>\n",
       "      <td>-1.005213</td>\n",
       "    </tr>\n",
       "  </tbody>\n",
       "</table>\n",
       "</div>"
      ],
      "text/plain": [
       "                   A         B         C         D\n",
       "2016-05-19 -0.737950 -0.961050  0.452468 -0.997171\n",
       "2016-05-20 -0.111028 -1.091068 -0.784214 -2.420062\n",
       "2016-05-21  1.728997  1.318631  0.064639 -1.005213"
      ]
     },
     "execution_count": 11,
     "metadata": {},
     "output_type": "execute_result"
    }
   ],
   "source": [
    "df.tail(3)"
   ]
  },
  {
   "cell_type": "code",
   "execution_count": 12,
   "metadata": {
    "collapsed": false
   },
   "outputs": [
    {
     "data": {
      "text/plain": [
       "DatetimeIndex(['2016-05-16', '2016-05-17', '2016-05-18', '2016-05-19',\n",
       "               '2016-05-20', '2016-05-21'],\n",
       "              dtype='datetime64[ns]', freq='D')"
      ]
     },
     "execution_count": 12,
     "metadata": {},
     "output_type": "execute_result"
    }
   ],
   "source": [
    "df.index"
   ]
  },
  {
   "cell_type": "code",
   "execution_count": 13,
   "metadata": {
    "collapsed": false
   },
   "outputs": [
    {
     "data": {
      "text/plain": [
       "Index(['A', 'B', 'C', 'D'], dtype='object')"
      ]
     },
     "execution_count": 13,
     "metadata": {},
     "output_type": "execute_result"
    }
   ],
   "source": [
    "df.columns"
   ]
  },
  {
   "cell_type": "code",
   "execution_count": 15,
   "metadata": {
    "collapsed": false
   },
   "outputs": [
    {
     "data": {
      "text/html": [
       "<div>\n",
       "<table border=\"1\" class=\"dataframe\">\n",
       "  <thead>\n",
       "    <tr style=\"text-align: right;\">\n",
       "      <th></th>\n",
       "      <th>A</th>\n",
       "      <th>B</th>\n",
       "      <th>C</th>\n",
       "      <th>D</th>\n",
       "    </tr>\n",
       "  </thead>\n",
       "  <tbody>\n",
       "    <tr>\n",
       "      <th>count</th>\n",
       "      <td>6.000000</td>\n",
       "      <td>6.000000</td>\n",
       "      <td>6.000000</td>\n",
       "      <td>6.000000</td>\n",
       "    </tr>\n",
       "    <tr>\n",
       "      <th>mean</th>\n",
       "      <td>-0.121311</td>\n",
       "      <td>-0.720330</td>\n",
       "      <td>-0.298623</td>\n",
       "      <td>-1.017537</td>\n",
       "    </tr>\n",
       "    <tr>\n",
       "      <th>std</th>\n",
       "      <td>1.109016</td>\n",
       "      <td>1.040387</td>\n",
       "      <td>0.581937</td>\n",
       "      <td>0.845055</td>\n",
       "    </tr>\n",
       "    <tr>\n",
       "      <th>min</th>\n",
       "      <td>-1.603666</td>\n",
       "      <td>-1.653231</td>\n",
       "      <td>-0.894010</td>\n",
       "      <td>-2.420062</td>\n",
       "    </tr>\n",
       "    <tr>\n",
       "      <th>25%</th>\n",
       "      <td>-0.615177</td>\n",
       "      <td>-1.135405</td>\n",
       "      <td>-0.779671</td>\n",
       "      <td>-1.109113</td>\n",
       "    </tr>\n",
       "    <tr>\n",
       "      <th>50%</th>\n",
       "      <td>-0.178943</td>\n",
       "      <td>-1.026059</td>\n",
       "      <td>-0.350702</td>\n",
       "      <td>-1.001192</td>\n",
       "    </tr>\n",
       "    <tr>\n",
       "      <th>75%</th>\n",
       "      <td>0.154220</td>\n",
       "      <td>-0.829071</td>\n",
       "      <td>0.117725</td>\n",
       "      <td>-0.814211</td>\n",
       "    </tr>\n",
       "    <tr>\n",
       "      <th>max</th>\n",
       "      <td>1.728997</td>\n",
       "      <td>1.318631</td>\n",
       "      <td>0.452468</td>\n",
       "      <td>0.214194</td>\n",
       "    </tr>\n",
       "  </tbody>\n",
       "</table>\n",
       "</div>"
      ],
      "text/plain": [
       "              A         B         C         D\n",
       "count  6.000000  6.000000  6.000000  6.000000\n",
       "mean  -0.121311 -0.720330 -0.298623 -1.017537\n",
       "std    1.109016  1.040387  0.581937  0.845055\n",
       "min   -1.603666 -1.653231 -0.894010 -2.420062\n",
       "25%   -0.615177 -1.135405 -0.779671 -1.109113\n",
       "50%   -0.178943 -1.026059 -0.350702 -1.001192\n",
       "75%    0.154220 -0.829071  0.117725 -0.814211\n",
       "max    1.728997  1.318631  0.452468  0.214194"
      ]
     },
     "execution_count": 15,
     "metadata": {},
     "output_type": "execute_result"
    }
   ],
   "source": [
    "df.describe()"
   ]
  },
  {
   "cell_type": "code",
   "execution_count": 16,
   "metadata": {
    "collapsed": false
   },
   "outputs": [
    {
     "data": {
      "text/html": [
       "<div>\n",
       "<table border=\"1\" class=\"dataframe\">\n",
       "  <thead>\n",
       "    <tr style=\"text-align: right;\">\n",
       "      <th></th>\n",
       "      <th>2016-05-16 00:00:00</th>\n",
       "      <th>2016-05-17 00:00:00</th>\n",
       "      <th>2016-05-18 00:00:00</th>\n",
       "      <th>2016-05-19 00:00:00</th>\n",
       "      <th>2016-05-20 00:00:00</th>\n",
       "      <th>2016-05-21 00:00:00</th>\n",
       "    </tr>\n",
       "  </thead>\n",
       "  <tbody>\n",
       "    <tr>\n",
       "      <th>A</th>\n",
       "      <td>-0.246858</td>\n",
       "      <td>-1.603666</td>\n",
       "      <td>0.242636</td>\n",
       "      <td>-0.737950</td>\n",
       "      <td>-0.111028</td>\n",
       "      <td>1.728997</td>\n",
       "    </tr>\n",
       "    <tr>\n",
       "      <th>B</th>\n",
       "      <td>-0.785078</td>\n",
       "      <td>-1.150184</td>\n",
       "      <td>-1.653231</td>\n",
       "      <td>-0.961050</td>\n",
       "      <td>-1.091068</td>\n",
       "      <td>1.318631</td>\n",
       "    </tr>\n",
       "    <tr>\n",
       "      <th>C</th>\n",
       "      <td>0.135421</td>\n",
       "      <td>-0.766043</td>\n",
       "      <td>-0.894010</td>\n",
       "      <td>0.452468</td>\n",
       "      <td>-0.784214</td>\n",
       "      <td>0.064639</td>\n",
       "    </tr>\n",
       "    <tr>\n",
       "      <th>D</th>\n",
       "      <td>-1.143747</td>\n",
       "      <td>0.214194</td>\n",
       "      <td>-0.753225</td>\n",
       "      <td>-0.997171</td>\n",
       "      <td>-2.420062</td>\n",
       "      <td>-1.005213</td>\n",
       "    </tr>\n",
       "  </tbody>\n",
       "</table>\n",
       "</div>"
      ],
      "text/plain": [
       "   2016-05-16  2016-05-17  2016-05-18  2016-05-19  2016-05-20  2016-05-21\n",
       "A   -0.246858   -1.603666    0.242636   -0.737950   -0.111028    1.728997\n",
       "B   -0.785078   -1.150184   -1.653231   -0.961050   -1.091068    1.318631\n",
       "C    0.135421   -0.766043   -0.894010    0.452468   -0.784214    0.064639\n",
       "D   -1.143747    0.214194   -0.753225   -0.997171   -2.420062   -1.005213"
      ]
     },
     "execution_count": 16,
     "metadata": {},
     "output_type": "execute_result"
    }
   ],
   "source": [
    "df.T"
   ]
  },
  {
   "cell_type": "code",
   "execution_count": 17,
   "metadata": {
    "collapsed": false
   },
   "outputs": [
    {
     "data": {
      "text/plain": [
       "2016-05-16   -0.246858\n",
       "2016-05-17   -1.603666\n",
       "2016-05-18    0.242636\n",
       "2016-05-19   -0.737950\n",
       "2016-05-20   -0.111028\n",
       "2016-05-21    1.728997\n",
       "Freq: D, Name: A, dtype: float64"
      ]
     },
     "execution_count": 17,
     "metadata": {},
     "output_type": "execute_result"
    }
   ],
   "source": [
    "df['A']"
   ]
  },
  {
   "cell_type": "code",
   "execution_count": 18,
   "metadata": {
    "collapsed": false
   },
   "outputs": [
    {
     "data": {
      "text/html": [
       "<div>\n",
       "<table border=\"1\" class=\"dataframe\">\n",
       "  <thead>\n",
       "    <tr style=\"text-align: right;\">\n",
       "      <th></th>\n",
       "      <th>A</th>\n",
       "      <th>B</th>\n",
       "      <th>C</th>\n",
       "      <th>D</th>\n",
       "    </tr>\n",
       "  </thead>\n",
       "  <tbody>\n",
       "    <tr>\n",
       "      <th>2016-05-16</th>\n",
       "      <td>-0.246858</td>\n",
       "      <td>-0.785078</td>\n",
       "      <td>0.135421</td>\n",
       "      <td>-1.143747</td>\n",
       "    </tr>\n",
       "    <tr>\n",
       "      <th>2016-05-17</th>\n",
       "      <td>-1.603666</td>\n",
       "      <td>-1.150184</td>\n",
       "      <td>-0.766043</td>\n",
       "      <td>0.214194</td>\n",
       "    </tr>\n",
       "    <tr>\n",
       "      <th>2016-05-18</th>\n",
       "      <td>0.242636</td>\n",
       "      <td>-1.653231</td>\n",
       "      <td>-0.894010</td>\n",
       "      <td>-0.753225</td>\n",
       "    </tr>\n",
       "    <tr>\n",
       "      <th>2016-05-19</th>\n",
       "      <td>-0.737950</td>\n",
       "      <td>-0.961050</td>\n",
       "      <td>0.452468</td>\n",
       "      <td>-0.997171</td>\n",
       "    </tr>\n",
       "    <tr>\n",
       "      <th>2016-05-20</th>\n",
       "      <td>-0.111028</td>\n",
       "      <td>-1.091068</td>\n",
       "      <td>-0.784214</td>\n",
       "      <td>-2.420062</td>\n",
       "    </tr>\n",
       "    <tr>\n",
       "      <th>2016-05-21</th>\n",
       "      <td>1.728997</td>\n",
       "      <td>1.318631</td>\n",
       "      <td>0.064639</td>\n",
       "      <td>-1.005213</td>\n",
       "    </tr>\n",
       "  </tbody>\n",
       "</table>\n",
       "</div>"
      ],
      "text/plain": [
       "                   A         B         C         D\n",
       "2016-05-16 -0.246858 -0.785078  0.135421 -1.143747\n",
       "2016-05-17 -1.603666 -1.150184 -0.766043  0.214194\n",
       "2016-05-18  0.242636 -1.653231 -0.894010 -0.753225\n",
       "2016-05-19 -0.737950 -0.961050  0.452468 -0.997171\n",
       "2016-05-20 -0.111028 -1.091068 -0.784214 -2.420062\n",
       "2016-05-21  1.728997  1.318631  0.064639 -1.005213"
      ]
     },
     "execution_count": 18,
     "metadata": {},
     "output_type": "execute_result"
    }
   ],
   "source": [
    "df"
   ]
  },
  {
   "cell_type": "code",
   "execution_count": 19,
   "metadata": {
    "collapsed": false
   },
   "outputs": [
    {
     "data": {
      "text/plain": [
       "A   -0.737950\n",
       "B   -0.961050\n",
       "C    0.452468\n",
       "D   -0.997171\n",
       "Name: 2016-05-19 00:00:00, dtype: float64"
      ]
     },
     "execution_count": 19,
     "metadata": {},
     "output_type": "execute_result"
    }
   ],
   "source": [
    "df.iloc[3]"
   ]
  },
  {
   "cell_type": "code",
   "execution_count": 20,
   "metadata": {
    "collapsed": true
   },
   "outputs": [],
   "source": [
    "df1=df.reindex(index=dates[0:4],columns=list(df.columns)+['E'])"
   ]
  },
  {
   "cell_type": "code",
   "execution_count": 21,
   "metadata": {
    "collapsed": true
   },
   "outputs": [],
   "source": [
    "df1.loc[dates[0]:dates[1],'E']=1"
   ]
  },
  {
   "cell_type": "code",
   "execution_count": 22,
   "metadata": {
    "collapsed": false
   },
   "outputs": [
    {
     "data": {
      "text/html": [
       "<div>\n",
       "<table border=\"1\" class=\"dataframe\">\n",
       "  <thead>\n",
       "    <tr style=\"text-align: right;\">\n",
       "      <th></th>\n",
       "      <th>A</th>\n",
       "      <th>B</th>\n",
       "      <th>C</th>\n",
       "      <th>D</th>\n",
       "      <th>E</th>\n",
       "    </tr>\n",
       "  </thead>\n",
       "  <tbody>\n",
       "    <tr>\n",
       "      <th>2016-05-16</th>\n",
       "      <td>-0.246858</td>\n",
       "      <td>-0.785078</td>\n",
       "      <td>0.135421</td>\n",
       "      <td>-1.143747</td>\n",
       "      <td>1</td>\n",
       "    </tr>\n",
       "    <tr>\n",
       "      <th>2016-05-17</th>\n",
       "      <td>-1.603666</td>\n",
       "      <td>-1.150184</td>\n",
       "      <td>-0.766043</td>\n",
       "      <td>0.214194</td>\n",
       "      <td>1</td>\n",
       "    </tr>\n",
       "    <tr>\n",
       "      <th>2016-05-18</th>\n",
       "      <td>0.242636</td>\n",
       "      <td>-1.653231</td>\n",
       "      <td>-0.894010</td>\n",
       "      <td>-0.753225</td>\n",
       "      <td>NaN</td>\n",
       "    </tr>\n",
       "    <tr>\n",
       "      <th>2016-05-19</th>\n",
       "      <td>-0.737950</td>\n",
       "      <td>-0.961050</td>\n",
       "      <td>0.452468</td>\n",
       "      <td>-0.997171</td>\n",
       "      <td>NaN</td>\n",
       "    </tr>\n",
       "  </tbody>\n",
       "</table>\n",
       "</div>"
      ],
      "text/plain": [
       "                   A         B         C         D   E\n",
       "2016-05-16 -0.246858 -0.785078  0.135421 -1.143747   1\n",
       "2016-05-17 -1.603666 -1.150184 -0.766043  0.214194   1\n",
       "2016-05-18  0.242636 -1.653231 -0.894010 -0.753225 NaN\n",
       "2016-05-19 -0.737950 -0.961050  0.452468 -0.997171 NaN"
      ]
     },
     "execution_count": 22,
     "metadata": {},
     "output_type": "execute_result"
    }
   ],
   "source": [
    "df1"
   ]
  },
  {
   "cell_type": "code",
   "execution_count": 23,
   "metadata": {
    "collapsed": true
   },
   "outputs": [],
   "source": [
    "df=pd.DataFrame(np.random.randn(10,4), columns=['A','B','C','D'])"
   ]
  },
  {
   "cell_type": "code",
   "execution_count": 24,
   "metadata": {
    "collapsed": false
   },
   "outputs": [
    {
     "data": {
      "text/html": [
       "<div>\n",
       "<table border=\"1\" class=\"dataframe\">\n",
       "  <thead>\n",
       "    <tr style=\"text-align: right;\">\n",
       "      <th></th>\n",
       "      <th>A</th>\n",
       "      <th>B</th>\n",
       "      <th>C</th>\n",
       "      <th>D</th>\n",
       "    </tr>\n",
       "  </thead>\n",
       "  <tbody>\n",
       "    <tr>\n",
       "      <th>0</th>\n",
       "      <td>0.439839</td>\n",
       "      <td>0.092692</td>\n",
       "      <td>-2.630439</td>\n",
       "      <td>1.197937</td>\n",
       "    </tr>\n",
       "    <tr>\n",
       "      <th>1</th>\n",
       "      <td>0.127783</td>\n",
       "      <td>1.028383</td>\n",
       "      <td>-0.215977</td>\n",
       "      <td>1.594327</td>\n",
       "    </tr>\n",
       "    <tr>\n",
       "      <th>2</th>\n",
       "      <td>0.224136</td>\n",
       "      <td>-1.171188</td>\n",
       "      <td>-0.519314</td>\n",
       "      <td>-0.064191</td>\n",
       "    </tr>\n",
       "    <tr>\n",
       "      <th>3</th>\n",
       "      <td>-1.270736</td>\n",
       "      <td>-0.535613</td>\n",
       "      <td>0.463444</td>\n",
       "      <td>0.884665</td>\n",
       "    </tr>\n",
       "    <tr>\n",
       "      <th>4</th>\n",
       "      <td>-0.323018</td>\n",
       "      <td>-0.614323</td>\n",
       "      <td>-0.216941</td>\n",
       "      <td>0.173079</td>\n",
       "    </tr>\n",
       "    <tr>\n",
       "      <th>5</th>\n",
       "      <td>-0.264983</td>\n",
       "      <td>-0.688713</td>\n",
       "      <td>-1.078985</td>\n",
       "      <td>0.426051</td>\n",
       "    </tr>\n",
       "    <tr>\n",
       "      <th>6</th>\n",
       "      <td>0.971866</td>\n",
       "      <td>-0.083031</td>\n",
       "      <td>-1.686346</td>\n",
       "      <td>-1.258322</td>\n",
       "    </tr>\n",
       "    <tr>\n",
       "      <th>7</th>\n",
       "      <td>0.909714</td>\n",
       "      <td>-0.526487</td>\n",
       "      <td>-0.534334</td>\n",
       "      <td>1.434607</td>\n",
       "    </tr>\n",
       "    <tr>\n",
       "      <th>8</th>\n",
       "      <td>0.504290</td>\n",
       "      <td>0.048841</td>\n",
       "      <td>0.857453</td>\n",
       "      <td>-0.345902</td>\n",
       "    </tr>\n",
       "    <tr>\n",
       "      <th>9</th>\n",
       "      <td>-1.614677</td>\n",
       "      <td>-0.324153</td>\n",
       "      <td>2.720526</td>\n",
       "      <td>-0.435368</td>\n",
       "    </tr>\n",
       "  </tbody>\n",
       "</table>\n",
       "</div>"
      ],
      "text/plain": [
       "          A         B         C         D\n",
       "0  0.439839  0.092692 -2.630439  1.197937\n",
       "1  0.127783  1.028383 -0.215977  1.594327\n",
       "2  0.224136 -1.171188 -0.519314 -0.064191\n",
       "3 -1.270736 -0.535613  0.463444  0.884665\n",
       "4 -0.323018 -0.614323 -0.216941  0.173079\n",
       "5 -0.264983 -0.688713 -1.078985  0.426051\n",
       "6  0.971866 -0.083031 -1.686346 -1.258322\n",
       "7  0.909714 -0.526487 -0.534334  1.434607\n",
       "8  0.504290  0.048841  0.857453 -0.345902\n",
       "9 -1.614677 -0.324153  2.720526 -0.435368"
      ]
     },
     "execution_count": 24,
     "metadata": {},
     "output_type": "execute_result"
    }
   ],
   "source": [
    "df"
   ]
  },
  {
   "cell_type": "code",
   "execution_count": 25,
   "metadata": {
    "collapsed": true
   },
   "outputs": [],
   "source": [
    "df2=pd.DataFrame(np.random.randn(7,3), columns=['A','B','C'])"
   ]
  },
  {
   "cell_type": "code",
   "execution_count": 26,
   "metadata": {
    "collapsed": false
   },
   "outputs": [
    {
     "data": {
      "text/html": [
       "<div>\n",
       "<table border=\"1\" class=\"dataframe\">\n",
       "  <thead>\n",
       "    <tr style=\"text-align: right;\">\n",
       "      <th></th>\n",
       "      <th>A</th>\n",
       "      <th>B</th>\n",
       "      <th>C</th>\n",
       "    </tr>\n",
       "  </thead>\n",
       "  <tbody>\n",
       "    <tr>\n",
       "      <th>0</th>\n",
       "      <td>1.069380</td>\n",
       "      <td>0.146264</td>\n",
       "      <td>-0.531350</td>\n",
       "    </tr>\n",
       "    <tr>\n",
       "      <th>1</th>\n",
       "      <td>-0.009271</td>\n",
       "      <td>0.768182</td>\n",
       "      <td>-1.363870</td>\n",
       "    </tr>\n",
       "    <tr>\n",
       "      <th>2</th>\n",
       "      <td>0.715470</td>\n",
       "      <td>-1.198672</td>\n",
       "      <td>0.910554</td>\n",
       "    </tr>\n",
       "    <tr>\n",
       "      <th>3</th>\n",
       "      <td>0.034332</td>\n",
       "      <td>0.417101</td>\n",
       "      <td>0.457262</td>\n",
       "    </tr>\n",
       "    <tr>\n",
       "      <th>4</th>\n",
       "      <td>0.475081</td>\n",
       "      <td>0.500939</td>\n",
       "      <td>0.683704</td>\n",
       "    </tr>\n",
       "    <tr>\n",
       "      <th>5</th>\n",
       "      <td>-1.030499</td>\n",
       "      <td>-1.559162</td>\n",
       "      <td>1.201614</td>\n",
       "    </tr>\n",
       "    <tr>\n",
       "      <th>6</th>\n",
       "      <td>-1.158183</td>\n",
       "      <td>-0.835096</td>\n",
       "      <td>-0.391374</td>\n",
       "    </tr>\n",
       "  </tbody>\n",
       "</table>\n",
       "</div>"
      ],
      "text/plain": [
       "          A         B         C\n",
       "0  1.069380  0.146264 -0.531350\n",
       "1 -0.009271  0.768182 -1.363870\n",
       "2  0.715470 -1.198672  0.910554\n",
       "3  0.034332  0.417101  0.457262\n",
       "4  0.475081  0.500939  0.683704\n",
       "5 -1.030499 -1.559162  1.201614\n",
       "6 -1.158183 -0.835096 -0.391374"
      ]
     },
     "execution_count": 26,
     "metadata": {},
     "output_type": "execute_result"
    }
   ],
   "source": [
    "df2"
   ]
  },
  {
   "cell_type": "code",
   "execution_count": 27,
   "metadata": {
    "collapsed": false
   },
   "outputs": [
    {
     "data": {
      "text/html": [
       "<div>\n",
       "<table border=\"1\" class=\"dataframe\">\n",
       "  <thead>\n",
       "    <tr style=\"text-align: right;\">\n",
       "      <th></th>\n",
       "      <th>A</th>\n",
       "      <th>B</th>\n",
       "      <th>C</th>\n",
       "      <th>D</th>\n",
       "    </tr>\n",
       "  </thead>\n",
       "  <tbody>\n",
       "    <tr>\n",
       "      <th>0</th>\n",
       "      <td>1.509219</td>\n",
       "      <td>0.238956</td>\n",
       "      <td>-3.161789</td>\n",
       "      <td>NaN</td>\n",
       "    </tr>\n",
       "    <tr>\n",
       "      <th>1</th>\n",
       "      <td>0.118512</td>\n",
       "      <td>1.796565</td>\n",
       "      <td>-1.579847</td>\n",
       "      <td>NaN</td>\n",
       "    </tr>\n",
       "    <tr>\n",
       "      <th>2</th>\n",
       "      <td>0.939607</td>\n",
       "      <td>-2.369860</td>\n",
       "      <td>0.391240</td>\n",
       "      <td>NaN</td>\n",
       "    </tr>\n",
       "    <tr>\n",
       "      <th>3</th>\n",
       "      <td>-1.236405</td>\n",
       "      <td>-0.118511</td>\n",
       "      <td>0.920706</td>\n",
       "      <td>NaN</td>\n",
       "    </tr>\n",
       "    <tr>\n",
       "      <th>4</th>\n",
       "      <td>0.152063</td>\n",
       "      <td>-0.113384</td>\n",
       "      <td>0.466763</td>\n",
       "      <td>NaN</td>\n",
       "    </tr>\n",
       "    <tr>\n",
       "      <th>5</th>\n",
       "      <td>-1.295481</td>\n",
       "      <td>-2.247875</td>\n",
       "      <td>0.122629</td>\n",
       "      <td>NaN</td>\n",
       "    </tr>\n",
       "    <tr>\n",
       "      <th>6</th>\n",
       "      <td>-0.186318</td>\n",
       "      <td>-0.918127</td>\n",
       "      <td>-2.077720</td>\n",
       "      <td>NaN</td>\n",
       "    </tr>\n",
       "    <tr>\n",
       "      <th>7</th>\n",
       "      <td>NaN</td>\n",
       "      <td>NaN</td>\n",
       "      <td>NaN</td>\n",
       "      <td>NaN</td>\n",
       "    </tr>\n",
       "    <tr>\n",
       "      <th>8</th>\n",
       "      <td>NaN</td>\n",
       "      <td>NaN</td>\n",
       "      <td>NaN</td>\n",
       "      <td>NaN</td>\n",
       "    </tr>\n",
       "    <tr>\n",
       "      <th>9</th>\n",
       "      <td>NaN</td>\n",
       "      <td>NaN</td>\n",
       "      <td>NaN</td>\n",
       "      <td>NaN</td>\n",
       "    </tr>\n",
       "  </tbody>\n",
       "</table>\n",
       "</div>"
      ],
      "text/plain": [
       "          A         B         C   D\n",
       "0  1.509219  0.238956 -3.161789 NaN\n",
       "1  0.118512  1.796565 -1.579847 NaN\n",
       "2  0.939607 -2.369860  0.391240 NaN\n",
       "3 -1.236405 -0.118511  0.920706 NaN\n",
       "4  0.152063 -0.113384  0.466763 NaN\n",
       "5 -1.295481 -2.247875  0.122629 NaN\n",
       "6 -0.186318 -0.918127 -2.077720 NaN\n",
       "7       NaN       NaN       NaN NaN\n",
       "8       NaN       NaN       NaN NaN\n",
       "9       NaN       NaN       NaN NaN"
      ]
     },
     "execution_count": 27,
     "metadata": {},
     "output_type": "execute_result"
    }
   ],
   "source": [
    "df+df2"
   ]
  },
  {
   "cell_type": "code",
   "execution_count": 28,
   "metadata": {
    "collapsed": true
   },
   "outputs": [],
   "source": [
    "arrays=[['bar','bar','baz','baz','foo','foo','qux','qux']]"
   ]
  },
  {
   "cell_type": "code",
   "execution_count": 29,
   "metadata": {
    "collapsed": true
   },
   "outputs": [],
   "source": [
    "arrays.append(['one','two','one','two','one','two','one','two'])"
   ]
  },
  {
   "cell_type": "code",
   "execution_count": 30,
   "metadata": {
    "collapsed": false
   },
   "outputs": [
    {
     "data": {
      "text/plain": [
       "[['bar', 'bar', 'baz', 'baz', 'foo', 'foo', 'qux', 'qux'],\n",
       " ['one', 'two', 'one', 'two', 'one', 'two', 'one', 'two']]"
      ]
     },
     "execution_count": 30,
     "metadata": {},
     "output_type": "execute_result"
    }
   ],
   "source": [
    "arrays"
   ]
  },
  {
   "cell_type": "code",
   "execution_count": 31,
   "metadata": {
    "collapsed": true
   },
   "outputs": [],
   "source": [
    "tuples=list(zip(*arrays))"
   ]
  },
  {
   "cell_type": "code",
   "execution_count": 32,
   "metadata": {
    "collapsed": false
   },
   "outputs": [
    {
     "data": {
      "text/plain": [
       "[('bar', 'one'),\n",
       " ('bar', 'two'),\n",
       " ('baz', 'one'),\n",
       " ('baz', 'two'),\n",
       " ('foo', 'one'),\n",
       " ('foo', 'two'),\n",
       " ('qux', 'one'),\n",
       " ('qux', 'two')]"
      ]
     },
     "execution_count": 32,
     "metadata": {},
     "output_type": "execute_result"
    }
   ],
   "source": [
    "tuples"
   ]
  },
  {
   "cell_type": "code",
   "execution_count": 35,
   "metadata": {
    "collapsed": false
   },
   "outputs": [],
   "source": [
    "index=pd.MultiIndex.from_tuples(tuples,names=['first', 'second'])"
   ]
  },
  {
   "cell_type": "code",
   "execution_count": 36,
   "metadata": {
    "collapsed": false
   },
   "outputs": [
    {
     "data": {
      "text/plain": [
       "MultiIndex(levels=[['bar', 'baz', 'foo', 'qux'], ['one', 'two']],\n",
       "           labels=[[0, 0, 1, 1, 2, 2, 3, 3], [0, 1, 0, 1, 0, 1, 0, 1]],\n",
       "           names=['first', 'second'])"
      ]
     },
     "execution_count": 36,
     "metadata": {},
     "output_type": "execute_result"
    }
   ],
   "source": [
    "index"
   ]
  },
  {
   "cell_type": "code",
   "execution_count": 37,
   "metadata": {
    "collapsed": true
   },
   "outputs": [],
   "source": [
    "s=pd.Series(np.random.randn(8), index=index)"
   ]
  },
  {
   "cell_type": "code",
   "execution_count": 38,
   "metadata": {
    "collapsed": false
   },
   "outputs": [
    {
     "data": {
      "text/plain": [
       "first  second\n",
       "bar    one       1.241224\n",
       "       two       1.629087\n",
       "baz    one      -0.500885\n",
       "       two      -1.306110\n",
       "foo    one      -0.963887\n",
       "       two      -1.068626\n",
       "qux    one      -2.770073\n",
       "       two       1.407302\n",
       "dtype: float64"
      ]
     },
     "execution_count": 38,
     "metadata": {},
     "output_type": "execute_result"
    }
   ],
   "source": [
    "s"
   ]
  },
  {
   "cell_type": "code",
   "execution_count": 39,
   "metadata": {
    "collapsed": false
   },
   "outputs": [
    {
     "data": {
      "text/plain": [
       "1.2412239939240721"
      ]
     },
     "execution_count": 39,
     "metadata": {},
     "output_type": "execute_result"
    }
   ],
   "source": [
    "s['bar']['one']"
   ]
  },
  {
   "cell_type": "code",
   "execution_count": 40,
   "metadata": {
    "collapsed": false
   },
   "outputs": [
    {
     "data": {
      "text/plain": [
       "[['bar', 'bar', 'baz', 'baz', 'foo', 'foo', 'qux', 'qux'],\n",
       " ['one', 'two', 'one', 'two', 'one', 'two', 'one', 'two']]"
      ]
     },
     "execution_count": 40,
     "metadata": {},
     "output_type": "execute_result"
    }
   ],
   "source": [
    "arrays"
   ]
  },
  {
   "cell_type": "code",
   "execution_count": 41,
   "metadata": {
    "collapsed": true
   },
   "outputs": [],
   "source": [
    "df=pd.DataFrame(np.random.randn(8,4), index=arrays)"
   ]
  },
  {
   "cell_type": "code",
   "execution_count": 42,
   "metadata": {
    "collapsed": false
   },
   "outputs": [
    {
     "data": {
      "text/html": [
       "<div>\n",
       "<table border=\"1\" class=\"dataframe\">\n",
       "  <thead>\n",
       "    <tr style=\"text-align: right;\">\n",
       "      <th></th>\n",
       "      <th></th>\n",
       "      <th>0</th>\n",
       "      <th>1</th>\n",
       "      <th>2</th>\n",
       "      <th>3</th>\n",
       "    </tr>\n",
       "  </thead>\n",
       "  <tbody>\n",
       "    <tr>\n",
       "      <th rowspan=\"2\" valign=\"top\">bar</th>\n",
       "      <th>one</th>\n",
       "      <td>1.809570</td>\n",
       "      <td>1.168633</td>\n",
       "      <td>-0.019594</td>\n",
       "      <td>0.614874</td>\n",
       "    </tr>\n",
       "    <tr>\n",
       "      <th>two</th>\n",
       "      <td>2.098120</td>\n",
       "      <td>-0.011555</td>\n",
       "      <td>-0.352389</td>\n",
       "      <td>-0.454802</td>\n",
       "    </tr>\n",
       "    <tr>\n",
       "      <th rowspan=\"2\" valign=\"top\">baz</th>\n",
       "      <th>one</th>\n",
       "      <td>1.431700</td>\n",
       "      <td>0.564988</td>\n",
       "      <td>2.142113</td>\n",
       "      <td>-1.585888</td>\n",
       "    </tr>\n",
       "    <tr>\n",
       "      <th>two</th>\n",
       "      <td>0.668214</td>\n",
       "      <td>-0.295667</td>\n",
       "      <td>-1.750780</td>\n",
       "      <td>1.014738</td>\n",
       "    </tr>\n",
       "    <tr>\n",
       "      <th rowspan=\"2\" valign=\"top\">foo</th>\n",
       "      <th>one</th>\n",
       "      <td>-0.120056</td>\n",
       "      <td>0.898448</td>\n",
       "      <td>-0.348344</td>\n",
       "      <td>-0.039958</td>\n",
       "    </tr>\n",
       "    <tr>\n",
       "      <th>two</th>\n",
       "      <td>-0.408401</td>\n",
       "      <td>-0.123888</td>\n",
       "      <td>1.626759</td>\n",
       "      <td>-0.516641</td>\n",
       "    </tr>\n",
       "    <tr>\n",
       "      <th rowspan=\"2\" valign=\"top\">qux</th>\n",
       "      <th>one</th>\n",
       "      <td>0.027721</td>\n",
       "      <td>-0.643360</td>\n",
       "      <td>-1.673742</td>\n",
       "      <td>-2.105264</td>\n",
       "    </tr>\n",
       "    <tr>\n",
       "      <th>two</th>\n",
       "      <td>0.130858</td>\n",
       "      <td>-0.190657</td>\n",
       "      <td>1.287604</td>\n",
       "      <td>0.131591</td>\n",
       "    </tr>\n",
       "  </tbody>\n",
       "</table>\n",
       "</div>"
      ],
      "text/plain": [
       "                0         1         2         3\n",
       "bar one  1.809570  1.168633 -0.019594  0.614874\n",
       "    two  2.098120 -0.011555 -0.352389 -0.454802\n",
       "baz one  1.431700  0.564988  2.142113 -1.585888\n",
       "    two  0.668214 -0.295667 -1.750780  1.014738\n",
       "foo one -0.120056  0.898448 -0.348344 -0.039958\n",
       "    two -0.408401 -0.123888  1.626759 -0.516641\n",
       "qux one  0.027721 -0.643360 -1.673742 -2.105264\n",
       "    two  0.130858 -0.190657  1.287604  0.131591"
      ]
     },
     "execution_count": 42,
     "metadata": {},
     "output_type": "execute_result"
    }
   ],
   "source": [
    "df"
   ]
  },
  {
   "cell_type": "code",
   "execution_count": 44,
   "metadata": {
    "collapsed": false
   },
   "outputs": [
    {
     "name": "stdout",
     "output_type": "stream",
     "text": [
      "Pandas(Index=('bar', 'one'), _1=1.8095701802171302, _2=1.1686327574558959, _3=-0.019594348535743794, _4=0.61487408750794914)\n",
      "Pandas(Index=('bar', 'two'), _1=2.0981204988884348, _2=-0.01155541154451239, _3=-0.35238935417508988, _4=-0.45480181903830408)\n",
      "Pandas(Index=('baz', 'one'), _1=1.4317000045068604, _2=0.56498775479743857, _3=2.1421125256691376, _4=-1.5858877681853345)\n",
      "Pandas(Index=('baz', 'two'), _1=0.66821381908904265, _2=-0.29566686167813355, _3=-1.7507795291259622, _4=1.0147382127458042)\n",
      "Pandas(Index=('foo', 'one'), _1=-0.12005592674101619, _2=0.89844811708744554, _3=-0.34834396258737943, _4=-0.03995750676191389)\n",
      "Pandas(Index=('foo', 'two'), _1=-0.40840060883391333, _2=-0.12388765019329308, _3=1.626758762429529, _4=-0.51664129085895294)\n",
      "Pandas(Index=('qux', 'one'), _1=0.027720666758203748, _2=-0.6433599311439212, _3=-1.6737421005884663, _4=-2.1052638806616826)\n",
      "Pandas(Index=('qux', 'two'), _1=0.13085801363938224, _2=-0.19065707521070324, _3=1.2876039901157901, _4=0.1315905691881234)\n"
     ]
    }
   ],
   "source": [
    "for line in df.itertuples():\n",
    "    print(line)"
   ]
  },
  {
   "cell_type": "code",
   "execution_count": 45,
   "metadata": {
    "collapsed": true
   },
   "outputs": [],
   "source": [
    "df.columns=['zero','one','two','three']"
   ]
  },
  {
   "cell_type": "code",
   "execution_count": 46,
   "metadata": {
    "collapsed": false
   },
   "outputs": [
    {
     "data": {
      "text/html": [
       "<div>\n",
       "<table border=\"1\" class=\"dataframe\">\n",
       "  <thead>\n",
       "    <tr style=\"text-align: right;\">\n",
       "      <th></th>\n",
       "      <th></th>\n",
       "      <th>zero</th>\n",
       "      <th>one</th>\n",
       "      <th>two</th>\n",
       "      <th>three</th>\n",
       "    </tr>\n",
       "  </thead>\n",
       "  <tbody>\n",
       "    <tr>\n",
       "      <th rowspan=\"2\" valign=\"top\">bar</th>\n",
       "      <th>one</th>\n",
       "      <td>1.809570</td>\n",
       "      <td>1.168633</td>\n",
       "      <td>-0.019594</td>\n",
       "      <td>0.614874</td>\n",
       "    </tr>\n",
       "    <tr>\n",
       "      <th>two</th>\n",
       "      <td>2.098120</td>\n",
       "      <td>-0.011555</td>\n",
       "      <td>-0.352389</td>\n",
       "      <td>-0.454802</td>\n",
       "    </tr>\n",
       "    <tr>\n",
       "      <th rowspan=\"2\" valign=\"top\">baz</th>\n",
       "      <th>one</th>\n",
       "      <td>1.431700</td>\n",
       "      <td>0.564988</td>\n",
       "      <td>2.142113</td>\n",
       "      <td>-1.585888</td>\n",
       "    </tr>\n",
       "    <tr>\n",
       "      <th>two</th>\n",
       "      <td>0.668214</td>\n",
       "      <td>-0.295667</td>\n",
       "      <td>-1.750780</td>\n",
       "      <td>1.014738</td>\n",
       "    </tr>\n",
       "    <tr>\n",
       "      <th rowspan=\"2\" valign=\"top\">foo</th>\n",
       "      <th>one</th>\n",
       "      <td>-0.120056</td>\n",
       "      <td>0.898448</td>\n",
       "      <td>-0.348344</td>\n",
       "      <td>-0.039958</td>\n",
       "    </tr>\n",
       "    <tr>\n",
       "      <th>two</th>\n",
       "      <td>-0.408401</td>\n",
       "      <td>-0.123888</td>\n",
       "      <td>1.626759</td>\n",
       "      <td>-0.516641</td>\n",
       "    </tr>\n",
       "    <tr>\n",
       "      <th rowspan=\"2\" valign=\"top\">qux</th>\n",
       "      <th>one</th>\n",
       "      <td>0.027721</td>\n",
       "      <td>-0.643360</td>\n",
       "      <td>-1.673742</td>\n",
       "      <td>-2.105264</td>\n",
       "    </tr>\n",
       "    <tr>\n",
       "      <th>two</th>\n",
       "      <td>0.130858</td>\n",
       "      <td>-0.190657</td>\n",
       "      <td>1.287604</td>\n",
       "      <td>0.131591</td>\n",
       "    </tr>\n",
       "  </tbody>\n",
       "</table>\n",
       "</div>"
      ],
      "text/plain": [
       "             zero       one       two     three\n",
       "bar one  1.809570  1.168633 -0.019594  0.614874\n",
       "    two  2.098120 -0.011555 -0.352389 -0.454802\n",
       "baz one  1.431700  0.564988  2.142113 -1.585888\n",
       "    two  0.668214 -0.295667 -1.750780  1.014738\n",
       "foo one -0.120056  0.898448 -0.348344 -0.039958\n",
       "    two -0.408401 -0.123888  1.626759 -0.516641\n",
       "qux one  0.027721 -0.643360 -1.673742 -2.105264\n",
       "    two  0.130858 -0.190657  1.287604  0.131591"
      ]
     },
     "execution_count": 46,
     "metadata": {},
     "output_type": "execute_result"
    }
   ],
   "source": [
    "df"
   ]
  },
  {
   "cell_type": "code",
   "execution_count": 48,
   "metadata": {
    "collapsed": false
   },
   "outputs": [
    {
     "name": "stdout",
     "output_type": "stream",
     "text": [
      "Pandas(Index=('bar', 'one'), zero=1.8095701802171302, one=1.1686327574558959, two=-0.019594348535743794, three=0.61487408750794914)\n",
      "Pandas(Index=('bar', 'two'), zero=2.0981204988884348, one=-0.01155541154451239, two=-0.35238935417508988, three=-0.45480181903830408)\n",
      "Pandas(Index=('baz', 'one'), zero=1.4317000045068604, one=0.56498775479743857, two=2.1421125256691376, three=-1.5858877681853345)\n",
      "Pandas(Index=('baz', 'two'), zero=0.66821381908904265, one=-0.29566686167813355, two=-1.7507795291259622, three=1.0147382127458042)\n",
      "Pandas(Index=('foo', 'one'), zero=-0.12005592674101619, one=0.89844811708744554, two=-0.34834396258737943, three=-0.03995750676191389)\n",
      "Pandas(Index=('foo', 'two'), zero=-0.40840060883391333, one=-0.12388765019329308, two=1.626758762429529, three=-0.51664129085895294)\n",
      "Pandas(Index=('qux', 'one'), zero=0.027720666758203748, one=-0.6433599311439212, two=-1.6737421005884663, three=-2.1052638806616826)\n",
      "Pandas(Index=('qux', 'two'), zero=0.13085801363938224, one=-0.19065707521070324, two=1.2876039901157901, three=0.1315905691881234)\n"
     ]
    }
   ],
   "source": [
    "for line in df.itertuples():\n",
    "    print(line)"
   ]
  },
  {
   "cell_type": "code",
   "execution_count": 49,
   "metadata": {
    "collapsed": true
   },
   "outputs": [],
   "source": [
    "arrays = [[1, 1, 2, 2], ['red', 'blue', 'red', 'blue']]"
   ]
  },
  {
   "cell_type": "code",
   "execution_count": 51,
   "metadata": {
    "collapsed": false
   },
   "outputs": [
    {
     "data": {
      "text/plain": [
       "MultiIndex(levels=[[1, 2], ['blue', 'red']],\n",
       "           labels=[[0, 0, 1, 1], [1, 0, 1, 0]],\n",
       "           names=['number', 'color'])"
      ]
     },
     "execution_count": 51,
     "metadata": {},
     "output_type": "execute_result"
    }
   ],
   "source": [
    "pd.MultiIndex.from_arrays(arrays, names=('number', 'color'))"
   ]
  },
  {
   "cell_type": "code",
   "execution_count": null,
   "metadata": {
    "collapsed": true
   },
   "outputs": [],
   "source": []
  }
 ],
 "metadata": {
  "kernelspec": {
   "display_name": "Python 3",
   "language": "python",
   "name": "python3"
  },
  "language_info": {
   "codemirror_mode": {
    "name": "ipython",
    "version": 3
   },
   "file_extension": ".py",
   "mimetype": "text/x-python",
   "name": "python",
   "nbconvert_exporter": "python",
   "pygments_lexer": "ipython3",
   "version": "3.5.1"
  }
 },
 "nbformat": 4,
 "nbformat_minor": 0
}
